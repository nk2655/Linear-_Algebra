{
 "cells": [
  {
   "cell_type": "markdown",
   "metadata": {},
   "source": [
    "# Vectors"
   ]
  },
  {
   "cell_type": "code",
   "execution_count": 11,
   "metadata": {
    "collapsed": false
   },
   "outputs": [
    {
     "name": "stdout",
     "output_type": "stream",
     "text": [
      "Vector:(7.089, -7.229999999999999)\n",
      "Vector:(15.342, 7.337)\n",
      "Vector:(12.38211, -7.49892, -2.35638)\n"
     ]
    }
   ],
   "source": [
    "# Plus, Minus, Scalar Multiply\n",
    "'''\n",
    "[8.218    +  [-1.129   =  [\n",
    "-9.341]       2.111]         ]\n",
    "\n",
    "[7.119    -  [-8.223   =  [\n",
    "8.215]       0.878]          ]\n",
    "\n",
    "7.41      *  [1.671   =  [\n",
    "              -1.012\n",
    "              0.318]         ]\n",
    "'''\n",
    "class Vector(object):\n",
    "    def __init__(self, coordinates):  #初始化坐标和设置矢量的空间维度\n",
    "        try:\n",
    "            if not coordinates:\n",
    "                raise ValueError\n",
    "            self.coordinates = tuple(coordinates)\n",
    "            self.dimension = len(coordinates)\n",
    "            \n",
    "        except ValueError:\n",
    "            raise ValueError('The coordinates must be nonempty')\n",
    "            \n",
    "        except TypeError:\n",
    "            raise TypeError('The coordinates must be an iterable')\n",
    "            \n",
    "    def plus(self, v):\n",
    "        new_coordinates = [x+y for x,y in zip(self.coordinates, v.coordinates)]\n",
    "        #new_coordinates = []\n",
    "        #n = len(self.coordinates)\n",
    "        #for i in range(n):\n",
    "        #    new_coordinates.append(self.coordinates[i] + v.coordinates[i])\n",
    "        return Vector(new_coordinates)\n",
    "\n",
    "    def minus(self, v):\n",
    "        new_coordinates = [x-y for x,y in zip(self.coordinates, v.coordinates)]\n",
    "        return Vector(new_coordinates)\n",
    "\n",
    "    def times_scalar(self, c):\n",
    "        new_coordinates = [c*x for x in self.coordinates]\n",
    "        return Vector(new_coordinates)\n",
    "\n",
    "    def __str__(self):   #开始创建矢量\n",
    "        return 'Vector:{}'.format(self.coordinates)\n",
    "\n",
    "    def __eq__(self, v):  #测试两个矢量是否相等\n",
    "        return self.coordinates == v.coordinates\n",
    "\n",
    "v = Vector([8.218,-9.341])\n",
    "w = Vector([-1.129,2.111])\n",
    "print v.plus(w)\n",
    "\n",
    "v = Vector([7.119, 8.215])\n",
    "w = Vector([-8.223, 0.878])\n",
    "print v.minus(w)\n",
    "\n",
    "v = Vector([1.671, -1.012, -0.318])\n",
    "c = 7.41\n",
    "print v.times_scalar(c)"
   ]
  },
  {
   "cell_type": "code",
   "execution_count": 15,
   "metadata": {
    "collapsed": false
   },
   "outputs": [
    {
     "name": "stdout",
     "output_type": "stream",
     "text": [
      "7.44028292473\n",
      "10.8841875673\n",
      "Vector:(0.9339352140866403, -0.35744232526233)\n",
      "Vector:(0.3404012959433014, 0.5300437012984873, -0.7766470449528029)\n"
     ]
    }
   ],
   "source": [
    "# Coding Magnitude and Direction\n",
    "\n",
    "'''\n",
    "v         |v|       v          1/|v|*v\n",
    "[-0.221   [       [5.581         [\n",
    "7.437]       ]    -2.136]            ]\n",
    "\n",
    "[8.813    [       [1.996         [\n",
    "-1.331            3.108\n",
    "-6.247]      ]    -4.554]            ]\n",
    "'''\n",
    "\n",
    "from math import sqrt\n",
    "\n",
    "class Vector(object):\n",
    "    def __init__(self, coordinates):\n",
    "        try:\n",
    "            if not coordinates:\n",
    "                raise ValueError\n",
    "            self.coordinates = tuple(coordinates)\n",
    "            self.dimension = len(coordinates)\n",
    "        except ValueError:\n",
    "            raise ValueError('The coordinates must be nonempty')\n",
    "        except TypeError:\n",
    "            raise TypeError('The coordinates must be an iterable')\n",
    "    \n",
    "    def magnitude(self):  #计算出每个x坐标的平方根\n",
    "        coordinates_squared = [x**2 for x in self.coordinates]\n",
    "        return sqrt(sum(coordinates_squared))\n",
    "    \n",
    "    def normalized(self):\n",
    "        try:\n",
    "            magnitude = self.magnitude()\n",
    "            return self.times_scalar(1./magnitude)\n",
    "        except ZeroDivisionError:  #如果magnitude等于0的情况\n",
    "            raise Exception('Cannot normalize the zero vector')\n",
    "    \n",
    "    def plus(self, v):\n",
    "        new_coordinates = [x+y for x,y in zip(self.coordinates, v.coordinates)]\n",
    "        return Vector(new_coordinates)\n",
    "    \n",
    "    def times_scalar(self, c):\n",
    "        new_coordinates = [c*x for x in self.coordinates]\n",
    "        return Vector(new_coordinates)\n",
    "    \n",
    "    def __str__(self):\n",
    "        return 'Vector:{}'.format(self.coordinates)\n",
    "    \n",
    "    def _eq__(self, v):\n",
    "        return self.coordinates == v.coordinates\n",
    "\n",
    "v = Vector([-0.221, 7.437])\n",
    "print v.magnitude()\n",
    "\n",
    "v=Vector([8.813, -1.331, -6.247])\n",
    "print v.magnitude()\n",
    "\n",
    "v = Vector([5.581, -2.136])\n",
    "print v.normalized()\n",
    "\n",
    "v = Vector([1.996, 3.108, -4.554])\n",
    "print v.normalized()"
   ]
  },
  {
   "cell_type": "code",
   "execution_count": 29,
   "metadata": {
    "collapsed": false
   },
   "outputs": [
    {
     "name": "stdout",
     "output_type": "stream",
     "text": [
      "-41.382286\n",
      "56.397178\n",
      "3.07202630984\n",
      "60.2758112052\n"
     ]
    }
   ],
   "source": [
    "# Coding Dot Product and Angle\n",
    "# angle=0 means same direction, angle=180 means oppsite direction. Choose smaller angle as angle.\n",
    "# 角度为0代表同一方向，角度为180代表平角，即相反方向。两矢量形成的角度会有大小两个角度，a1+a2=360度，选取较小的那个为实际角度。\n",
    "\n",
    "'''\n",
    "v         w       v*w          v           w      cos(v,w)\n",
    "[7.887   [-8.802  [         [3.183     [-2.668    [\n",
    "4.138]    6.776]     ]       -7.627]    5.319]           ] rad\n",
    "   \n",
    "[-5.955  [-4.496  [         [7.35      [2.751     [\n",
    "-4.904    -8.755             0.221      8.259\n",
    "-1.874]   7.103]     ]       5.188]     3.985]           ] 0\n",
    "'''\n",
    "\n",
    "from math import sqrt, acos, pi\n",
    "from decimal import Decimal, getcontext\n",
    "\n",
    "getcontext().prec = 30\n",
    "\n",
    "class Vector(object):\n",
    "    CANNOT_NORMALIZE_ZERO_VECTOR_MSG = 'Cannot normalize the zero vector'\n",
    "    \n",
    "    def __init__(self, coordinates):\n",
    "        try:\n",
    "            if not coordinates:\n",
    "                raise ValueError\n",
    "            self.coordinates = tuple([Decimal(x) for x in coordinates])\n",
    "            self.dimension = len(self.coordinates)\n",
    "            \n",
    "        except ValueError:\n",
    "            raise ValueError('The coordinates must be nonempty')\n",
    "            \n",
    "        except TypeError:\n",
    "            raise TypeError('The coordinates must be an iterable')\n",
    "            \n",
    "    def magnitude(self):\n",
    "        coordinates_squared = [x**2 for x in self.coordinates]\n",
    "        return sqrt(sum(coordinates_squared))\n",
    "            \n",
    "    def normalized(self):\n",
    "        try:\n",
    "            magnitude = self.magnitude()\n",
    "            return self.time_scalar(float(Decimal('1.0'))/magnitude)  #注意,如果decimal和decimal不能运算时,则改为float(decimal())\n",
    "        except ZeroDivisionError:\n",
    "            raise Exception(self.CANNOT_NORMALIZE_ZERO_VECTOR_MSG)\n",
    "            \n",
    "    def plus(self, v):\n",
    "        new_coordinates = [x+y for x,y in zip(self.coordinates, v.coordinates)]\n",
    "        return Vector(new_coordinates)\n",
    "    \n",
    "    def minus(self, v):\n",
    "        new_coordnates = [x-y for x,y in zip(self.coordinates, v.coordinates)]\n",
    "        return Vector(new_coordinates)\n",
    "    \n",
    "    def time_scalar(self, c):\n",
    "        new_coordinates = [Decimal(c)*x for x in self.coordinates]\n",
    "        return Vector(new_coordinates)\n",
    "    \n",
    "    def dot(self, v):\n",
    "        return sum([x*y for x,y in zip(self.coordinates, v.coordinates)])\n",
    "    \n",
    "    def angle_with(self, v, in_degrees=False):\n",
    "        try:\n",
    "            u1 = self.normalized()\n",
    "            u2 = v.normalized()\n",
    "            angle_in_radians = acos(u1.dot(u2))\n",
    "            \n",
    "            if in_degrees:\n",
    "                degrees_per_radian = 180. / pi\n",
    "                return angle_in_radians * degrees_per_radian\n",
    "            else:\n",
    "                return angle_in_radians\n",
    "            \n",
    "        except Exception as e:\n",
    "            if str(e) == self.CANNOT_NORMALIZE_ZERO_VECTOR_MSG:\n",
    "                raise Exception('Cannot compute an angle with the zero vector')\n",
    "            else:\n",
    "                raise e\n",
    "    \n",
    "    def __eq__(self, v):\n",
    "        return self.coordinates == v.coordinates\n",
    "    \n",
    "v = Vector(['7.887', '4.138'])\n",
    "w = Vector(['-8.802', '6.776'])\n",
    "print v.dot(w)\n",
    "\n",
    "v = Vector(['-5.955', '-4.904', '-1.874'])\n",
    "w = Vector(['-4.496', '-8.755', '7.103'])\n",
    "print v.dot(w)\n",
    "\n",
    "v = Vector([3.183, -7.627])\n",
    "w = Vector([-2.668, 5.319])\n",
    "print v.angle_with(w)\n",
    "\n",
    "v = Vector(['7.35', '0.221', '5.188'])\n",
    "w = Vector(['2.751', '8.259', '3.985'])\n",
    "print v.angle_with(w, in_degrees=True)"
   ]
  },
  {
   "cell_type": "code",
   "execution_count": null,
   "metadata": {
    "collapsed": true
   },
   "outputs": [],
   "source": [
    "# Checking Parallel, Orthogonal"
   ]
  },
  {
   "cell_type": "code",
   "execution_count": null,
   "metadata": {
    "collapsed": true
   },
   "outputs": [],
   "source": [
    "# Coding Vector Projections"
   ]
  },
  {
   "cell_type": "code",
   "execution_count": null,
   "metadata": {
    "collapsed": true
   },
   "outputs": [],
   "source": [
    "# Coding Cross Products"
   ]
  },
  {
   "cell_type": "code",
   "execution_count": null,
   "metadata": {
    "collapsed": true
   },
   "outputs": [],
   "source": []
  },
  {
   "cell_type": "code",
   "execution_count": null,
   "metadata": {
    "collapsed": true
   },
   "outputs": [],
   "source": []
  }
 ],
 "metadata": {
  "anaconda-cloud": {},
  "kernelspec": {
   "display_name": "Python [Root]",
   "language": "python",
   "name": "Python [Root]"
  },
  "language_info": {
   "codemirror_mode": {
    "name": "ipython",
    "version": 2
   },
   "file_extension": ".py",
   "mimetype": "text/x-python",
   "name": "python",
   "nbconvert_exporter": "python",
   "pygments_lexer": "ipython2",
   "version": "2.7.12"
  }
 },
 "nbformat": 4,
 "nbformat_minor": 0
}
